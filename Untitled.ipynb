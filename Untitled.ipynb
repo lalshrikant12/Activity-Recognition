{
 "cells": [
  {
   "cell_type": "code",
   "execution_count": 14,
   "metadata": {},
   "outputs": [],
   "source": [
    "import cv2 as cv"
   ]
  },
  {
   "cell_type": "code",
   "execution_count": 15,
   "metadata": {},
   "outputs": [],
   "source": [
    "import matplotlib.pyplot as plt"
   ]
  },
  {
   "cell_type": "code",
   "execution_count": 5,
   "metadata": {},
   "outputs": [
    {
     "ename": "NameError",
     "evalue": "name 'cv' is not defined",
     "output_type": "error",
     "traceback": [
      "\u001b[1;31m---------------------------------------------------------------------------\u001b[0m",
      "\u001b[1;31mNameError\u001b[0m                                 Traceback (most recent call last)",
      "\u001b[1;32m<ipython-input-5-a35ff2c4b4e7>\u001b[0m in \u001b[0;36m<module>\u001b[1;34m\u001b[0m\n\u001b[1;32m----> 1\u001b[1;33m \u001b[0mnet\u001b[0m\u001b[1;33m=\u001b[0m\u001b[0mcv\u001b[0m\u001b[1;33m.\u001b[0m\u001b[0mddn\u001b[0m\u001b[1;33m.\u001b[0m\u001b[0mreadNetFromTensorflow\u001b[0m\u001b[1;33m(\u001b[0m\u001b[1;34m\"graph_opt.pb\"\u001b[0m\u001b[1;33m)\u001b[0m\u001b[1;33m\u001b[0m\u001b[1;33m\u001b[0m\u001b[0m\n\u001b[0m",
      "\u001b[1;31mNameError\u001b[0m: name 'cv' is not defined"
     ]
    }
   ],
   "source": [
    "net=cv.ddn.readNetFromTensorflow(\"graph_opt.pb\")"
   ]
  },
  {
   "cell_type": "code",
   "execution_count": null,
   "metadata": {},
   "outputs": [],
   "source": [
    " BODY_PARTS = { \"Nose\": 0, \"Neck\": 1, \"RShoulder\": 2, \"RElbow\": 3, \"RWrist\": 4,\n",
    "                   \"LShoulder\": 5, \"LElbow\": 6, \"LWrist\": 7, \"RHip\": 8, \"RKnee\": 9,\n",
    "                   \"RAnkle\": 10, \"LHip\": 11, \"LKnee\": 12, \"LAnkle\": 13, \"REye\": 14,\n",
    "                   \"LEye\": 15, \"REar\": 16, \"LEar\": 17, \"Background\": 18 }\n",
    "\n",
    "    POSE_PAIRS = [ [\"Neck\", \"RShoulder\"], [\"Neck\", \"LShoulder\"], [\"RShoulder\", \"RElbow\"],\n",
    "                   [\"RElbow\", \"RWrist\"], [\"LShoulder\", \"LElbow\"], [\"LElbow\", \"LWrist\"],\n",
    "                   [\"Neck\", \"RHip\"], [\"RHip\", \"RKnee\"], [\"RKnee\", \"RAnkle\"], [\"Neck\", \"LHip\"],\n",
    "                   [\"LHip\", \"LKnee\"], [\"LKnee\", \"LAnkle\"], [\"Neck\", \"Nose\"], [\"Nose\", \"REye\"],\n",
    "                   [\"REye\", \"REar\"], [\"Nose\", \"LEye\"], [\"LEye\", \"LEar\"] ]"
   ]
  },
  {
   "cell_type": "code",
   "execution_count": null,
   "metadata": {},
   "outputs": [],
   "source": [
    "def pose_estimation(frame):\n",
    "    frameWidth = frame.shape[1]\n",
    "    frameHeight = frame.shape[0]\n",
    "    net.setInput(cv.ddn.blobFromImage(frame 1.0, (inWidth, inHeight),127.5,127.5,127.5), swapRB=True, crop=False)\n",
    "    out = net.forward()\n",
    "    \n",
    "    assert(len(BODY_PARTS)== out.shape[1])\n",
    "    \n",
    "    point=[]\n",
    "    \n",
    "    for i in range(len(BODY_PARTS)):\n",
    "        #Slice heatmap of corrosponging body' part.\n",
    "        heatMap= out[0,i,:,:]\n",
    "        \n",
    "        \n",
    "        -, conf, _, point=cv.minMaxLoc(HeatMap)\n",
    "        x= (frameWidth*point[0]) / out.shape[3]\n",
    "        y=(frameHeight = point[1])/out.shape[2]\n",
    "        #Add a point if its confidence is higher than threshold\n",
    "        \n",
    "    for pair in POSE_PAIRS:\n",
    "        partForm= pair[0]\n",
    "        partTo= pair[1]\n",
    "        assert(partFrom in BODY_PARTS)\n",
    "        assert(partTo in BODY_PARTS)\n",
    "        \n",
    "        idFrom- BODY_PARTS[partFrom]\n",
    "        idTo= BODY_PARTS[partTo]\n",
    "        \n",
    "        if points[idFrom]and Points[idTo]:\n",
    "            cv.line(frame, points[idFrom], points[idTo], (0,255,0),3)\n",
    "            cv.ellipse(frame,points[idFrom], (3,3),0,0,360,(0,0,225), cv.FILLED)\n",
    "            cv.ellipse(frame, points[idTo], (3,3),0,0,360,(0,0,225), cv.FILLED)\n",
    "    \n",
    "    t, _=net.getPerfProfile()\n",
    "    freq = cv.getTickFrequency()/1000\n",
    "    cv.putText(frame, '%.2fms' % (t/freq),(10,20), cv.FONT_HERSHEY_SIMPLE, 0.5,(0,0,0))\n",
    "    return frame"
   ]
  },
  {
   "cell_type": "code",
   "execution_count": 1,
   "metadata": {},
   "outputs": [
    {
     "ename": "SyntaxError",
     "evalue": "unexpected EOF while parsing (<ipython-input-1-cafda7c9b352>, line 2)",
     "output_type": "error",
     "traceback": [
      "\u001b[1;36m  File \u001b[1;32m\"<ipython-input-1-cafda7c9b352>\"\u001b[1;36m, line \u001b[1;32m2\u001b[0m\n\u001b[1;33m    plt.imshow(cv.cvtColor(estimated_image,cv.COLOR_BGR2RGB)\u001b[0m\n\u001b[1;37m                                                            ^\u001b[0m\n\u001b[1;31mSyntaxError\u001b[0m\u001b[1;31m:\u001b[0m unexpected EOF while parsing\n"
     ]
    }
   ],
   "source": [
    "estimated_image=pose_estimation(img)\n",
    "plt.imshow(cv.cvtColor(estimated_image,cv.COLOR_BGR2RGB)"
   ]
  },
  {
   "cell_type": "code",
   "execution_count": 3,
   "metadata": {},
   "outputs": [
    {
     "ename": "SyntaxError",
     "evalue": "invalid syntax (<ipython-input-3-a8affadbc3d3>, line 14)",
     "output_type": "error",
     "traceback": [
      "\u001b[1;36m  File \u001b[1;32m\"<ipython-input-3-a8affadbc3d3>\"\u001b[1;36m, line \u001b[1;32m14\u001b[0m\n\u001b[1;33m    net.setInput(cv.ddn.blobFromImage(frame 1.0, (inWidth, inHeight),127.5,127.5,127.5), swapRB=True, crop=False)\u001b[0m\n\u001b[1;37m                                            ^\u001b[0m\n\u001b[1;31mSyntaxError\u001b[0m\u001b[1;31m:\u001b[0m invalid syntax\n"
     ]
    }
   ],
   "source": [
    "cap=cv.VideoCapture('Record.m')\n",
    "cap.set(3,800)\n",
    "cap.set(4,800)\n",
    "\n",
    "if not cap.isOpened():\n",
    "    cap=cv.VideoCapture(0)\n",
    "if not cap.isOpened():\n",
    "    hasFrame,frame=cap.read()\n",
    "    if not hasFrame:\n",
    "        cv.waitKey()\n",
    "        break\n",
    "    frameWidth = frame.shape[1]\n",
    "    frameHeight = frame.shape[0]\n",
    "    net.setInput(cv.ddn.blobFromImage(frame 1.0, (inWidth, inHeight),127.5,127.5,127.5), swapRB=True, crop=False)\n",
    "    out = net.forward()\n",
    "    \n",
    "    assert(len(BODY_PARTS)== out.shape[1])\n",
    "    \n",
    "    point=[]\n",
    "    \n",
    "    for i in range(len(BODY_PARTS)):\n",
    "        #Slice heatmap of corrosponging body' part.\n",
    "        heatMap= out[0,i,:,:]\n",
    "        \n",
    "        \n",
    "        -, conf, _, point=cv.minMaxLoc(HeatMap)\n",
    "        x= (frameWidth*point[0]) / out.shape[3]\n",
    "        y=(frameHeight = point[1])/out.shape[2]\n",
    "        #Add a point if its confidence is higher than threshold\n",
    "        \n",
    "    for pair in POSE_PAIRS:\n",
    "        partForm= pair[0]\n",
    "        partTo= pair[1]\n",
    "        assert(partFrom in BODY_PARTS)\n",
    "        assert(partTo in BODY_PARTS)\n",
    "        \n",
    "        idFrom- BODY_PARTS[partFrom]\n",
    "        idTo= BODY_PARTS[partTo]\n",
    "        \n",
    "        if points[idFrom]and Points[idTo]:\n",
    "            cv.line(frame, points[idFrom], points[idTo], (0,255,0),3)\n",
    "            cv.ellipse(frame,points[idFrom], (3,3),0,0,360,(0,0,225), cv.FILLED)\n",
    "            cv.ellipse(frame, points[idTo], (3,3),0,0,360,(0,0,225), cv.FILLED)\n",
    "    \n",
    "    t, _=net.getPerfProfile()\n",
    "    freq = cv.getTickFrequency()/1000\n",
    "    cv.putText(frame, '%.2fms' % (t/freq),(10,20), cv.FONT_HERSHEY_SIMPLE, 0.5,(0,0,0))\n",
    "    \n",
    "    cv.imshow('Pose Estmation', frame)"
   ]
  },
  {
   "cell_type": "code",
   "execution_count": 4,
   "metadata": {},
   "outputs": [],
   "source": [
    "# Real time webcam"
   ]
  },
  {
   "cell_type": "code",
   "execution_count": null,
   "metadata": {},
   "outputs": [],
   "source": [
    "cap=cv.VideoCapture('Recor.mp4')\n",
    "cap.set(3,800)\n",
    "cap.set(4,800)\n",
    "\n",
    "if not cap.isOpened():\n",
    "    cap=cv.VideoCapture(0)\n",
    "if not cap.isOpened():\n",
    "    raise IOError(\"Cannot open cam\")\n",
    "    \n",
    "While cv.waitKey(1)<0:\n",
    "    hasFrame,frame=cap.read()\n",
    "    if not hasFrame:\n",
    "        cv.waitKey()\n",
    "        break\n",
    "     frameWidth = frame.shape[1]\n",
    "    frameHeight = frame.shape[0]\n",
    "    net.setInput(cv.ddn.blobFromImage(frame 1.0, (inWidth, inHeight),127.5,127.5,127.5), swapRB=True, crop=False)\n",
    "    out = net.forward()\n",
    "    \n",
    "    assert(len(BODY_PARTS)== out.shape[1])\n",
    "    \n",
    "    point=[]\n",
    "    \n",
    "    for i in range(len(BODY_PARTS)):\n",
    "        #Slice heatmap of corrosponging body' part.\n",
    "        heatMap= out[0,i,:,:]\n",
    "        \n",
    "        \n",
    "        -, conf, _, point=cv.minMaxLoc(HeatMap)\n",
    "        x= (frameWidth*point[0]) / out.shape[3]\n",
    "        y=(frameHeight = point[1])/out.shape[2]\n",
    "        #Add a point if its confidence is higher than threshold\n",
    "        \n",
    "    for pair in POSE_PAIRS:\n",
    "        partForm= pair[0]\n",
    "        partTo= pair[1]\n",
    "        assert(partFrom in BODY_PARTS)\n",
    "        assert(partTo in BODY_PARTS)\n",
    "        \n",
    "        idFrom- BODY_PARTS[partFrom]\n",
    "        idTo= BODY_PARTS[partTo]\n",
    "        \n",
    "        if points[idFrom]and Points[idTo]:\n",
    "            cv.line(frame, points[idFrom], points[idTo], (0,255,0),3)\n",
    "            cv.ellipse(frame,points[idFrom], (3,3),0,0,360,(0,0,225), cv.FILLED)\n",
    "            cv.ellipse(frame, points[idTo], (3,3),0,0,360,(0,0,225), cv.FILLED)\n",
    "    \n",
    "    t, _=net.getPerfProfile()\n",
    "    freq = cv.getTickFrequency()/1000\n",
    "    cv.putText(frame, '%.2fms' % (t/freq),(10,20), cv.FONT_HERSHEY_SIMPLE, 0.5,(0,0,0))\n",
    "    cv.imshow('Pose Estimation',frame)"
   ]
  }
 ],
 "metadata": {
  "kernelspec": {
   "display_name": "Python 3",
   "language": "python",
   "name": "python3"
  },
  "language_info": {
   "codemirror_mode": {
    "name": "ipython",
    "version": 3
   },
   "file_extension": ".py",
   "mimetype": "text/x-python",
   "name": "python",
   "nbconvert_exporter": "python",
   "pygments_lexer": "ipython3",
   "version": "3.8.5"
  }
 },
 "nbformat": 4,
 "nbformat_minor": 4
}
